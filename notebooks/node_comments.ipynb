{
 "cells": [
  {
   "cell_type": "code",
   "execution_count": 28,
   "id": "1a3e25c7-4a47-425a-8a20-7f2a9b00d1be",
   "metadata": {},
   "outputs": [
    {
     "name": "stdout",
     "output_type": "stream",
     "text": [
      "Requirement already satisfied: pyperclip in /mnt/shalin/.venv/lib/python3.12/site-packages (1.8.2)\n",
      "\n",
      "\u001b[1m[\u001b[0m\u001b[34;49mnotice\u001b[0m\u001b[1;39;49m]\u001b[0m\u001b[39;49m A new release of pip is available: \u001b[0m\u001b[31;49m23.2.1\u001b[0m\u001b[39;49m -> \u001b[0m\u001b[32;49m24.0\u001b[0m\n",
      "\u001b[1m[\u001b[0m\u001b[34;49mnotice\u001b[0m\u001b[1;39;49m]\u001b[0m\u001b[39;49m To update, run: \u001b[0m\u001b[32;49mpip install --upgrade pip\u001b[0m\n"
     ]
    }
   ],
   "source": [
    "!pip install pyperclip"
   ]
  },
  {
   "cell_type": "code",
   "execution_count": 29,
   "id": "228d39e0-2a3d-4630-af9e-49b677c38986",
   "metadata": {},
   "outputs": [],
   "source": [
    "import pyperclip"
   ]
  },
  {
   "cell_type": "code",
   "execution_count": 266,
   "id": "3d739d10-b2c7-4c70-aa7b-f5efef68a1e5",
   "metadata": {},
   "outputs": [],
   "source": [
    "text = \"\"\"\n",
    "Function Name: cloneFormRow\n",
    "\n",
    "Purpose:\n",
    "The purpose of this function is to clone a form row within an HTML document when a user clicks on a button with the class 'clone-btn'. It is designed to facilitate the dynamic addition of similar form rows without manually duplicating the HTML code. This function is part of the user interface logic and does not directly interact with backend services like MongoDB or Salesforce.\n",
    "\n",
    "Function Inputs:\n",
    "- Event object (implicitly provided by jQuery's .on() method): This object contains information about the click event that triggered the function.\n",
    "\n",
    "Process Flow:\n",
    "1. The function is triggered by a click event on an element with the class 'clone-btn'.\n",
    "2. It retrieves the parent row of the clicked button using jQuery's DOM traversal methods.\n",
    "3. It clones this parent row to create a new identical row.\n",
    "4. The cloned row's text input and textarea elements are iterated over, and their values are cleared.\n",
    "5. For each input or textarea, it increments a numeric suffix in its 'name' attribute to maintain unique names for form elements.\n",
    "6. The cloned row is then inserted into the DOM immediately after the original row.\n",
    "7. The form validation state is reset using jQuery Validation Plugin's `resetForm` method, assuming it has been applied to a form with an id of 'manualForm'.\n",
    "8. The original clone button's parent container is hidden, and its previous sibling container is shown.\n",
    "\n",
    "Function Outputs:\n",
    "- No explicit outputs are returned by this function; however, it results in side effects on the DOM:\n",
    "  - A new cloned form row is inserted into the HTML document.\n",
    "  - Form validation state may be reset if applicable.\n",
    "\n",
    "Database Interactions:\n",
    "- There are no direct database interactions within this function.\n",
    "\n",
    "Salesforce Integration Points:\n",
    "- Not applicable as there are no direct interactions with Salesforce objects within this function.\n",
    "\n",
    "Error Handling:\n",
    "- This function does not include explicit error handling mechanisms; errors may be implicitly handled by jQuery or browser-level error handling.\n",
    "\n",
    "Dependencies:\n",
    "- jQuery library: Used for DOM manipulation, event handling, and other utilities.\n",
    "- jQuery Validation Plugin (assumed from `$('#manualForm').validate().resetForm()`): Used for managing form validation state.\n",
    "\n",
    "Assumptions & Constraints:\n",
    "- Assumes that there exists an HTML structure where `.clone-btn` has a parent which in turn has another parent that represents a clonable form row.\n",
    "- Assumes that each input or textarea element within these rows has a name attribute containing at least one period followed by a number which can be incremented.\n",
    "- Assumes that there exists an HTML element with id 'manualForm' which uses jQuery Validation Plugin for its validation logic.\n",
    "- Assumes that `.clone-btn`'s immediate parent has another visible sibling element that should be shown when cloning occurs.\n",
    "\"\"\""
   ]
  },
  {
   "cell_type": "code",
   "execution_count": 267,
   "id": "a245dcf8-3b39-46a3-b0c1-19cd698fdad8",
   "metadata": {},
   "outputs": [
    {
     "name": "stdout",
     "output_type": "stream",
     "text": [
      "\n",
      "Function Name: cloneFormRow\n",
      "\n",
      "Purpose:\n",
      "The purpose of this function is to clone a form row within an HTML document when a user clicks on a\n",
      "button with the class 'clone-btn'. It is designed to facilitate the dynamic addition of similar form\n",
      "rows without manually duplicating the HTML code.  This function is part of the user interface logic\n",
      "and does not directly interact with backend services like MongoDB or Salesforce.\n",
      "\n",
      "Function Inputs:\n",
      "- Event object (implicitly provided by jQuery's .on() method): This object contains information\n",
      "about the click event that triggered the function.\n",
      "\n",
      "Process Flow:\n",
      "1. The function is triggered by a click event on an element with the class 'clone-btn'.\n",
      "2. It retrieves the parent row of the clicked button using jQuery's DOM traversal methods.\n",
      "3. It clones this parent row to create a new identical row.\n",
      "4. The cloned row's text input and textarea elements are iterated over, and their values are\n",
      "cleared.\n",
      "5. For each input or textarea, it increments a numeric suffix in its 'name' attribute to maintain\n",
      "unique names for form elements.\n",
      "6. The cloned row is then inserted into the DOM immediately after the original row.\n",
      "7. The form validation state is reset using jQuery Validation Plugin's `resetForm` method, assuming\n",
      "it has been applied to a form with an id of 'manualForm'.\n",
      "8. The original clone button's parent container is hidden, and its previous sibling container is\n",
      "shown.\n",
      "\n",
      "Function Outputs:\n",
      "- No explicit outputs are returned by this function; however, it results in side effects on the DOM:\n",
      "  - A new cloned form row is inserted into the HTML document.\n",
      "  - Form validation state may be reset if applicable.\n",
      "\n",
      "Database Interactions:\n",
      "- There are no direct database interactions within this function.\n",
      "\n",
      "Salesforce Integration Points:\n",
      "- Not applicable as there are no direct interactions with Salesforce objects within this function.\n",
      "\n",
      "Error Handling:\n",
      "- This function does not include explicit error handling mechanisms; errors may be implicitly\n",
      "handled by jQuery or browser-level error handling.\n",
      "\n",
      "Dependencies:\n",
      "- jQuery library: Used for DOM manipulation, event handling, and other utilities.\n",
      "- jQuery Validation Plugin (assumed from `$('#manualForm').validate().resetForm()`): Used for\n",
      "managing form validation state.\n",
      "\n",
      "Assumptions & Constraints:\n",
      "- Assumes that there exists an HTML structure where `.clone-btn` has a parent which in turn has\n",
      "another parent that represents a clonable form row.\n",
      "- Assumes that each input or textarea element within these rows has a name attribute containing at\n",
      "least one period followed by a number which can be incremented.\n",
      "- Assumes that there exists an HTML element with id 'manualForm' which uses jQuery Validation Plugin\n",
      "for its validation logic.\n",
      "- Assumes that `.clone-btn`'s immediate parent has another visible sibling element that should be\n",
      "shown when cloning occurs.\n",
      "\n",
      "\n"
     ]
    }
   ],
   "source": [
    "from textwrap import TextWrapper\n",
    "text_arr= text.split(\"\\n\")\n",
    "comment=\"\"\n",
    "wrapper = TextWrapper(width=100, fix_sentence_endings=True, break_long_words=False)\n",
    "\n",
    "for val in text_arr:\n",
    "    if len(val.strip()) == 0:\n",
    "        comment = f\"{comment}{val}\\n\"\n",
    "        continue\n",
    "    for split_val in wrapper.wrap(val):\n",
    "        comment = f\"{comment}{split_val}\\n\"\n",
    "print(comment)\n",
    "#clipboard.copy(comment)"
   ]
  },
  {
   "cell_type": "code",
   "execution_count": null,
   "id": "00ac20b3-0930-4145-8069-ec9322c6b4fa",
   "metadata": {},
   "outputs": [],
   "source": []
  },
  {
   "cell_type": "code",
   "execution_count": null,
   "id": "fa26e6fb-01c0-40b4-bfa3-4e47ce516a67",
   "metadata": {},
   "outputs": [],
   "source": []
  }
 ],
 "metadata": {
  "kernelspec": {
   "display_name": "Python 3 (ipykernel)",
   "language": "python",
   "name": "python3"
  },
  "language_info": {
   "codemirror_mode": {
    "name": "ipython",
    "version": 3
   },
   "file_extension": ".py",
   "mimetype": "text/x-python",
   "name": "python",
   "nbconvert_exporter": "python",
   "pygments_lexer": "ipython3",
   "version": "3.12.1"
  }
 },
 "nbformat": 4,
 "nbformat_minor": 5
}
